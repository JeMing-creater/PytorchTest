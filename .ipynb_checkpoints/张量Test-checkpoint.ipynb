{
 "cells": [
  {
   "cell_type": "code",
   "execution_count": 1,
   "metadata": {},
   "outputs": [],
   "source": [
    "#Tensors 类似于 NumPy 的 ndarrays ，同时 Tensors 可以使用 GPU 进行计算。\n",
    "from __future__ import print_function\n",
    "import torch"
   ]
  },
  {
   "cell_type": "code",
   "execution_count": 2,
   "metadata": {},
   "outputs": [
    {
     "name": "stdout",
     "output_type": "stream",
     "text": [
      "tensor([[1.7753e+28, 7.1493e+22, 4.3059e+21],\n",
      "        [7.2251e+28, 2.7713e+20, 1.2668e-14],\n",
      "        [1.8888e+31, 1.2712e+31, 3.2745e-12],\n",
      "        [7.5555e+31, 1.8737e-19, 1.6852e+22],\n",
      "        [5.1388e-14, 1.6109e-19, 1.8888e+31]])\n"
     ]
    }
   ],
   "source": [
    "#构造一个5x3矩阵，不初始化。\n",
    "x = torch.empty(5, 3)\n",
    "print(x)"
   ]
  },
  {
   "cell_type": "code",
   "execution_count": 3,
   "metadata": {},
   "outputs": [
    {
     "name": "stdout",
     "output_type": "stream",
     "text": [
      "tensor([[0.7531, 0.1962, 0.3133],\n",
      "        [0.5938, 0.8383, 0.3368],\n",
      "        [0.9026, 0.0051, 0.1732],\n",
      "        [0.1489, 0.7105, 0.3421],\n",
      "        [0.5840, 0.2011, 0.9998]])\n"
     ]
    }
   ],
   "source": [
    "#构造一个随机初始化的矩阵：\n",
    "x = torch.rand(5, 3)\n",
    "print(x)"
   ]
  },
  {
   "cell_type": "code",
   "execution_count": 4,
   "metadata": {},
   "outputs": [
    {
     "name": "stdout",
     "output_type": "stream",
     "text": [
      "tensor([[0, 0, 0],\n",
      "        [0, 0, 0],\n",
      "        [0, 0, 0],\n",
      "        [0, 0, 0],\n",
      "        [0, 0, 0]])\n"
     ]
    }
   ],
   "source": [
    "#构造一个矩阵全为 0，而且数据类型是 long.\n",
    "x = torch.zeros(5, 3, dtype=torch.long)\n",
    "print(x)\n"
   ]
  },
  {
   "cell_type": "code",
   "execution_count": 5,
   "metadata": {},
   "outputs": [
    {
     "name": "stdout",
     "output_type": "stream",
     "text": [
      "tensor([5.5000, 3.0000])\n"
     ]
    }
   ],
   "source": [
    "#构造一个张量，直接使用数据：\n",
    "x = torch.tensor([5.5, 3])\n",
    "print(x)"
   ]
  },
  {
   "cell_type": "code",
   "execution_count": 6,
   "metadata": {},
   "outputs": [
    {
     "name": "stdout",
     "output_type": "stream",
     "text": [
      "tensor([[1., 1., 1.],\n",
      "        [1., 1., 1.],\n",
      "        [1., 1., 1.],\n",
      "        [1., 1., 1.],\n",
      "        [1., 1., 1.]], dtype=torch.float64)\n",
      "tensor([[-0.9267,  1.7086,  0.6718],\n",
      "        [ 0.3327,  0.5571,  0.0831],\n",
      "        [-1.3538, -0.7798, -0.2498],\n",
      "        [ 0.6911, -1.4237,  1.5270],\n",
      "        [-1.6809, -0.3980,  2.1692]])\n"
     ]
    }
   ],
   "source": [
    "#创建一个 tensor 基于已经存在的 tensor。\n",
    "x = x.new_ones(5, 3, dtype=torch.double)      \n",
    "# new_* methods take in sizes\n",
    "print(x)\n",
    "\n",
    "x = torch.randn_like(x, dtype=torch.float)    \n",
    "# override dtype!\n",
    "print(x)                                      \n",
    "# result has the same size"
   ]
  },
  {
   "cell_type": "code",
   "execution_count": 7,
   "metadata": {},
   "outputs": [
    {
     "name": "stdout",
     "output_type": "stream",
     "text": [
      "torch.Size([5, 3])\n"
     ]
    }
   ],
   "source": [
    "# 获取它的维度信息:\n",
    "print(x.size())   # torch.Size是一个元组，故支持元组操作"
   ]
  },
  {
   "cell_type": "code",
   "execution_count": 8,
   "metadata": {},
   "outputs": [
    {
     "name": "stdout",
     "output_type": "stream",
     "text": [
      "tensor([[-0.3204,  2.5254,  1.1447],\n",
      "        [ 0.7851,  0.6864,  0.8254],\n",
      "        [-0.5576,  0.1614,  0.7173],\n",
      "        [ 1.6455, -0.6846,  1.7722],\n",
      "        [-1.6804,  0.0576,  2.4389]])\n"
     ]
    }
   ],
   "source": [
    "#加法操作:方式1直接相加\n",
    "y = torch.rand(5, 3)\n",
    "print(x + y)"
   ]
  },
  {
   "cell_type": "code",
   "execution_count": 9,
   "metadata": {},
   "outputs": [
    {
     "name": "stdout",
     "output_type": "stream",
     "text": [
      "tensor([[-0.3204,  2.5254,  1.1447],\n",
      "        [ 0.7851,  0.6864,  0.8254],\n",
      "        [-0.5576,  0.1614,  0.7173],\n",
      "        [ 1.6455, -0.6846,  1.7722],\n",
      "        [-1.6804,  0.0576,  2.4389]])\n"
     ]
    }
   ],
   "source": [
    "#加法操作:方式2函数调用\n",
    "print(torch.add(x, y))"
   ]
  },
  {
   "cell_type": "code",
   "execution_count": 10,
   "metadata": {},
   "outputs": [
    {
     "name": "stdout",
     "output_type": "stream",
     "text": [
      "tensor([[-0.3204,  2.5254,  1.1447],\n",
      "        [ 0.7851,  0.6864,  0.8254],\n",
      "        [-0.5576,  0.1614,  0.7173],\n",
      "        [ 1.6455, -0.6846,  1.7722],\n",
      "        [-1.6804,  0.0576,  2.4389]])\n"
     ]
    }
   ],
   "source": [
    "# 提供一个tensor作为接受方\n",
    "result = torch.empty(5, 3)\n",
    "torch.add(x, y, out=result)\n",
    "print(result)"
   ]
  },
  {
   "cell_type": "code",
   "execution_count": 11,
   "metadata": {},
   "outputs": [
    {
     "name": "stdout",
     "output_type": "stream",
     "text": [
      "tensor([[-0.3204,  2.5254,  1.1447],\n",
      "        [ 0.7851,  0.6864,  0.8254],\n",
      "        [-0.5576,  0.1614,  0.7173],\n",
      "        [ 1.6455, -0.6846,  1.7722],\n",
      "        [-1.6804,  0.0576,  2.4389]])\n"
     ]
    }
   ],
   "source": [
    "# 改变其中一个tensor，以作接收方\n",
    "y.add_(x)   # 注意 任何使张量会发生变化的操作都有一个前缀 '_'\n",
    "print(y)"
   ]
  },
  {
   "cell_type": "code",
   "execution_count": 12,
   "metadata": {},
   "outputs": [
    {
     "name": "stdout",
     "output_type": "stream",
     "text": [
      "tensor([ 1.7086,  0.5571, -0.7798, -1.4237, -0.3980])\n"
     ]
    }
   ],
   "source": [
    "# 对于张量可以作标准的  NumPy 类似的索引操作\n",
    "print(x[:, 1])"
   ]
  },
  {
   "cell_type": "code",
   "execution_count": 13,
   "metadata": {},
   "outputs": [
    {
     "name": "stdout",
     "output_type": "stream",
     "text": [
      "torch.Size([4, 4]) torch.Size([16]) torch.Size([2, 8])\n"
     ]
    }
   ],
   "source": [
    "# 改变大小：可以使用 torch.view()\n",
    "x = torch.randn(4, 4)\n",
    "y = x.view(16)\n",
    "z = x.view(-1, 8)  # 标记size -1 使其自动从其他维度推断出来其该有的值，如第二维度标了8，-1自动转换为2\n",
    "print(x.size(), y.size(), z.size())"
   ]
  },
  {
   "cell_type": "code",
   "execution_count": 14,
   "metadata": {},
   "outputs": [
    {
     "name": "stdout",
     "output_type": "stream",
     "text": [
      "tensor([1.0081])\n",
      "1.0080888271331787\n"
     ]
    }
   ],
   "source": [
    "# 使用.item() 来获得张量的 value\n",
    "x = torch.randn(1)\n",
    "print(x)\n",
    "print(x.item())"
   ]
  },
  {
   "cell_type": "code",
   "execution_count": null,
   "metadata": {},
   "outputs": [],
   "source": []
  }
 ],
 "metadata": {
  "kernelspec": {
   "display_name": "Python 3",
   "language": "python",
   "name": "python3"
  },
  "language_info": {
   "codemirror_mode": {
    "name": "ipython",
    "version": 3
   },
   "file_extension": ".py",
   "mimetype": "text/x-python",
   "name": "python",
   "nbconvert_exporter": "python",
   "pygments_lexer": "ipython3",
   "version": "3.6.10"
  }
 },
 "nbformat": 4,
 "nbformat_minor": 4
}
